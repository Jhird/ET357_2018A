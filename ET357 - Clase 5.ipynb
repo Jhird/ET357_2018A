{
 "cells": [
  {
   "cell_type": "markdown",
   "metadata": {},
   "source": [
    "# **Ejercicio en Python #1**\n",
    "\n",
    "### Ecuación diferencial del circuito estándar de neuronas\n",
    "\n",
    "### Aquí modelamos el circuito estándar de una neurona para visualizar cómo cambia $u(t)$ cuando $I(t)$ es un impulso cuadrado que dura 200 ms\n",
    "\n",
    "$$\\tau_m \\frac{du}{dt}=-[u(t)-u_{rest}] + RI(t)$$\n",
    "\n",
    "$$\\frac{du}{dt}=\\frac{-[u(t)-u_{rest}] + RI(t)}{\\tau_m}$$\n",
    "\n",
    "### Usaremos los siguientes valores\n",
    "\n",
    "* $\\tau_m = RC = 10 ms$\n",
    "* $u_{rest} = -65 mV$\n",
    "* $R = 5 m\\Omega$\n",
    "* $t$ es un vector que va de 0 a 200 ms\n",
    "* $I(t<50) = 0$\n",
    "* $I(50<t<150)=10 mA$\n",
    "* $I(150<t<200) = 0$\n",
    "* La unica condicion inicial es $u(0) = 0$"
   ]
  },
  {
   "cell_type": "code",
   "execution_count": 1,
   "metadata": {},
   "outputs": [],
   "source": [
    "# Importa las librerias de Python necesarias\n",
    "import numpy as np\n",
    "import matplotlib.pyplot as plt\n",
    "from scipy.integrate import odeint\n",
    "%matplotlib inline"
   ]
  },
  {
   "cell_type": "code",
   "execution_count": 2,
   "metadata": {},
   "outputs": [],
   "source": [
    "# Define el modelo de la ecuacion diferencial del circuito\n",
    "def circuitoEstandar(u,t,I):\n",
    "    # Define constantes\n",
    "    u_reposo = -65.0\n",
    "    R = 5.0\n",
    "    tau = 10.0\n",
    "    # Calcula la derivada en el tiempo\n",
    "    dudt = (-(u - u_reposo) + (R*I) )/tau\n",
    "    return dudt"
   ]
  },
  {
   "cell_type": "code",
   "execution_count": 3,
   "metadata": {},
   "outputs": [],
   "source": [
    "# Define el vector t\n",
    "pasos = 1000\n",
    "tiempo = np.linspace(0.0,200.0,pasos)\n",
    "\n",
    "# Define la señal cuadrada de I(t)\n",
    "I_t = np.zeros_like(tiempo)\n",
    "I_t[tiempo>50] = 10.0\n",
    "I_t[tiempo>150] = 0.0\n",
    "\n",
    "# Define el vector u(t) para guardar la solucion\n",
    "u_t = np.empty_like(tiempo)\n",
    "\n",
    "# Declara la condicion inicial\n",
    "u_rest = -65.0\n",
    "u_t[0] = u_rest"
   ]
  },
  {
   "cell_type": "code",
   "execution_count": 4,
   "metadata": {},
   "outputs": [],
   "source": [
    "# Resuelve el sistema de EDO paso a paso con un ciclo FOR\n",
    "for i in range(1,len(tiempo)):\n",
    "    # Iniciamos el iterador en 1 porque el valor 0 ya lo definimos arriba\n",
    "    # Define el tamano del paso en el tiempo\n",
    "    tpaso = [tiempo[i-1],tiempo[i]]\n",
    "    # Resuelve la ecuacion diferencial en el tiempo que abarca el paso\n",
    "    z = odeint(circuitoEstandar,u_t[i-1],tpaso,args=(I_t[i-1],))    \n",
    "    u_t[i] = z[1]"
   ]
  },
  {
   "cell_type": "code",
   "execution_count": 5,
   "metadata": {},
   "outputs": [
    {
     "data": {
      "text/plain": [
       "<matplotlib.legend.Legend at 0x7f85b4060dd0>"
      ]
     },
     "execution_count": 5,
     "metadata": {},
     "output_type": "execute_result"
    },
    {
     "data": {
      "image/png": "[encoded data removed]",
      "text/plain": [
       "<Figure size 576x432 with 2 Axes>"
      ]
     },
     "metadata": {},
     "output_type": "display_data"
    }
   ],
   "source": [
    "# Grafica los resultados\n",
    "plt.figure(figsize=(8,6))\n",
    "plt.subplot(2,1,1)\n",
    "plt.plot(tiempo,I_t,'g',label='I(t)')\n",
    "plt.ylabel('Corriente (mA)')\n",
    "plt.xlabel('Tiempo (ms)')\n",
    "plt.legend()\n",
    "\n",
    "plt.subplot(2,1,2)\n",
    "plt.plot(tiempo,u_t,'b',label='u(t)')\n",
    "plt.ylabel('Potencial de membrana (mV)')\n",
    "plt.xlabel('Tiempo (ms)')\n",
    "plt.legend()"
   ]
  },
  {
   "cell_type": "markdown",
   "metadata": {},
   "source": [
    "# **Ejercicio en Python #2**\n",
    "\n",
    "### Implementacion del modelo de Hodgkin-Huxley en Python\n",
    "\n",
    "### El modelo de Hodgkin-Huxley requiere que definamos 10 funciones (4 ecuaciones diferenciales y 6 funciones). Por ello, haremos este ejercicio por partes\n",
    "\n",
    "# Parte A - Define tres funciones para calcular los valores de $\\alpha_n,\\alpha_m,\\alpha_h$ que dependen del potencial de membrana de la neurona\n",
    "\n",
    "### Los valores de alpha, como vimos en clase, dependen del voltaje de membrana $u(t)$ de acuerdo a las siguientes ecuaciones\n",
    "\n",
    "$$\\alpha_n = \\frac{0.02(u-25)}{1-e^{-(u-25)/9}}$$\n",
    "\n",
    "$$\\alpha_m = \\frac{0.182(u+35)}{1-e^{-(u+35)/9}}$$\n",
    "\n",
    "$$\\alpha_h = 0.25e^{-(u+90)/12}$$\n",
    "\n",
    "### La primera ecuacion para $\\alpha_n$ se muestra como ejemplo en el codigo de abajo"
   ]
  },
  {
   "cell_type": "code",
   "execution_count": null,
   "metadata": {},
   "outputs": [],
   "source": [
    "# Define una funcion que calcula alpha_n dado un valor de u\n",
    "def alpha_n(u):\n",
    "    return ( 0.02*(u-25) )/( 1 - np.exp( -(u-25)/9 ) )\n",
    "\n",
    "### Completa el siguiente codigo ###\n",
    "\n",
    "# Define una function que calcula alpha_m dado un valor de u\n",
    "def alpha_m(u):\n",
    "    return #\n",
    "\n",
    "# Define una function que calcula alpha_h dado un valor de u\n",
    "def alpha_h(u):\n",
    "    return #"
   ]
  },
  {
   "cell_type": "markdown",
   "metadata": {},
   "source": [
    "# Parte B - Define tres funciones para calcular los valores de $\\beta_n,\\beta_m,\\beta_h$ que dependen del potencial de membrana de la neurona\n",
    "\n",
    "### Los valores de beta, como vimos en clase, dependen del voltaje de membrana $u(t)$ de acuerdo a las siguientes ecuaciones\n",
    "\n",
    "$$\\beta_n = \\frac{-0.002(u-25)}{1-e^{(u-25)/9}}$$\n",
    "\n",
    "$$\\beta_m = \\frac{-0.124(u+35)}{1-e^{(u+35)/9}}$$\n",
    "\n",
    "$$\\beta_h = \\frac{0.25e^{(u+62)/6}}{e^{(u+90)/12}}$$\n",
    "\n",
    "### La primera ecuacion para $\\beta_n$ se muestra como ejemplo en el codigo de abajo"
   ]
  },
  {
   "cell_type": "code",
   "execution_count": null,
   "metadata": {},
   "outputs": [],
   "source": [
    "# Define una funcion que calcula alpha_n dado un valor de u\n",
    "def beta_n(u):\n",
    "    return ( -0.002*(u-25) )/( 1 - np.exp( (u-25)/9 ) )\n",
    "\n",
    "### Completa el siguiente codigo ###\n",
    "\n",
    "# Define una function que calcula alpha_m dado un valor de u\n",
    "def beta_m(u):\n",
    "    return\n",
    "\n",
    "# Define una function que calcula alpha_h dado un valor de u\n",
    "def beta_h(u):\n",
    "    return"
   ]
  },
  {
   "cell_type": "markdown",
   "metadata": {},
   "source": [
    "# Parte C - Define las tres ecuaciones diferenciales para calcular los valores de $\\frac{dn}{dt},\\frac{dm}{dt},\\frac{dh}{dt}$ que dependen del potencial de membrana de la neurona\n",
    "\n",
    "### Estas ecuaciones son:\n",
    "\n",
    "$$\\frac{dn}{dt} = \\alpha_n(1-n) - \\beta_nn$$\n",
    "\n",
    "$$\\frac{dm}{dt} = \\alpha_m(1-m) - \\beta_mm$$\n",
    "\n",
    "$$\\frac{dh}{dt} = \\alpha_h(1-h) - \\beta_hh$$\n",
    "\n",
    "### Donde las alphas y las betas se calculan con las funciones que definiste arriba\n",
    "\n",
    "### La primera ecuacion diferencial para $\\frac{dn}{dt}$ se muestra como ejemplo en el codigo de abajo"
   ]
  },
  {
   "cell_type": "code",
   "execution_count": null,
   "metadata": {},
   "outputs": [],
   "source": [
    "# Define una funcion que calcula dn/dt dado un valor de u y de n\n",
    "def dndt(u,n):\n",
    "    a_n = alpha_n(u) # Aqui estamos mandando llamar la funcion alpha_n que definimos arriba\n",
    "    b_n = beta_n(u)\n",
    "    return a_n * (1 - n) - b_n*n\n",
    "\n",
    "### Completa el siguiente codigo ###\n",
    "\n",
    "def dmdt(u,m):\n",
    "    a_m = \n",
    "    b_m =\n",
    "    return\n",
    "\n",
    "def dhdt(u,h):\n",
    "    a_h =\n",
    "    b_h =\n",
    "    return"
   ]
  },
  {
   "cell_type": "markdown",
   "metadata": {},
   "source": [
    "# Parte D - Define una funcion para calcular la sumatoria de las corrientes iónicas dados los valores $u, m, n$, y $h$\n",
    "\n",
    "### La ecuación es\n",
    "\n",
    "$$\\sum_k I_k(t) = g_{Na}m^3h(u-E_{Na}) + g_{K}n^4(u-E_{K}) + g_{Cl}(u-E_{Cl})$$\n",
    "\n",
    "### Los valores de las constantes $g$ y $E$ son:\n",
    "\n",
    "Para sodio (Na):\n",
    "$$E_{Na}=55 [mV]$$ \n",
    "$$g_{Na}=40 [mS/cm^2]$$ \n",
    "\n",
    "Para potasio (K):\n",
    "$$E_{K}=-77 [mV]$$ \n",
    "$$g_{Na}=35 [mS/cm^2]$$ \n",
    "\n",
    "Para cloro (Cl):\n",
    "$$E_{Cl}=-65 [mV]$$ \n",
    "$$g_{Cl}=0.3 [mS/cm^2]$$ \n",
    "\n",
    "### El codigo para calcular la corriente de sodio (Na) se muestra abajo como ejemplo. Completa el codigo para las corrientes de potasio y cloro y despues define una funcion que calcula la suma de las tres"
   ]
  },
  {
   "cell_type": "code",
   "execution_count": null,
   "metadata": {},
   "outputs": [],
   "source": [
    "# Define una funcion que calcula I_Na dados los valores de u, m, h\n",
    "def I_Na(u,m,h):\n",
    "    E_Na = 55.0\n",
    "    g_Na = 40.0\n",
    "    return (g_Na * (m**3) * h) * (u - E_Na)\n",
    "\n",
    "# Define una funcion que calcula I_K dados los valores de u, n\n",
    "def I_K(u,n):\n",
    "    E_K = -77.0\n",
    "    g_K = 35.0\n",
    "    return \n",
    "\n",
    "# Define una funcion que calcula I_Cl dado el valor de u\n",
    "def I_Cl(u):\n",
    "    E_Cl = -65.0\n",
    "    g_Cl = 0.3\n",
    "    return\n",
    "\n",
    "def SumaIonicas(u,m,n,h):\n",
    "    return I_Na(u,m,h) + I_K(u,n) + I_Cl(u)"
   ]
  },
  {
   "cell_type": "markdown",
   "metadata": {},
   "source": [
    "# Parte E - Define la funcion para calcular $\\frac{du}{dt}$ dada un valor de corriente externa y la suma de las corrientes ionicas\n",
    "\n",
    "$$C\\frac{du}{dt} = I_{ext}(t) - \\sum_k I_k(t)$$\n",
    "\n",
    "$$\\frac{du}{dt} = \\frac{I_{ext}(t) - \\sum_k I_k(t)}{C}$$\n",
    "\n",
    "### Experimentalmente, el valor de C ha sido estimado en 1 $\\mu$F/$cm^2$\n",
    "\n",
    "### El codigo completo para calcular $\\frac{du}{dt}$ se muestra abajo (no hay necesidad de completar nada por ahora)"
   ]
  },
  {
   "cell_type": "code",
   "execution_count": null,
   "metadata": {},
   "outputs": [],
   "source": [
    "# Define una funcion que calcula du/dt dado un valor de corriente externa y un valor de suma de corrientes ionicas\n",
    "def dudt(Iext,Isuma_ion):\n",
    "    # Define constante de capacitancia\n",
    "    C = 1.0\n",
    "    return (Iext - Isuma_ion)/C"
   ]
  },
  {
   "cell_type": "markdown",
   "metadata": {},
   "source": [
    "# Parte F - Define una funcion de Python que incluye el sistema de ecuaciones diferenciales del modelo completo de Hodgkin-Huxley"
   ]
  },
  {
   "cell_type": "code",
   "execution_count": null,
   "metadata": {},
   "outputs": [],
   "source": [
    "def HodgkinHuxley(condiciones_iniciales, t, I_externa):\n",
    "    \n",
    "    # En este sistema, la variable \"condiciones_iniciales\" contiene los valores de [u,m,n,h] en un momento dado\n",
    "    u = condiciones_iniciales[0]\n",
    "    m = condiciones_iniciales[1]\n",
    "    n = condiciones_iniciales[2]\n",
    "    h = condiciones_iniciales[3]\n",
    "    \n",
    "    # Primero, calculamos las derivadas de m,n,h\n",
    "    Dm = dmdt(u,m)\n",
    "    Dn = dndt(u,n)\n",
    "    Dh = dhdt(u,h)\n",
    "    \n",
    "    # Ahora calculamos la derivada de u\n",
    "    Isuma_ion = SumaIonicas(u,m,n,h)\n",
    "    Du = dudt(I_externa, Isuma_ion)\n",
    "    \n",
    "    # La funcion debe regresar el valor de las cuatro derivadas calculadas\n",
    "    return [Du,Dm,Dn,Dh]"
   ]
  },
  {
   "cell_type": "markdown",
   "metadata": {},
   "source": [
    "# Parte Final - Resuelve el modelo para una corriente externa igual a un tren de impulsos\n",
    "\n",
    "### Condiciones iniciales:\n",
    "$$u(0) = -65 mV$$\n",
    "$$n(0) = m(0) = h(0) = 0$$\n",
    "\n",
    "### Corriente externa\n",
    "Usaremos un tren de impulsos de corta duracion (2 ms) pero de gran intensidad (100 mA) como se muestra abajo"
   ]
  },
  {
   "cell_type": "code",
   "execution_count": null,
   "metadata": {},
   "outputs": [],
   "source": [
    "# Define el numero de pasos\n",
    "pasos = 1000\n",
    "\n",
    "# Define el vector tiempo\n",
    "tiempo = np.linspace(0.0,100.0,pasos) # Simularemos un tiempo total de 100 ms\n",
    "\n",
    "# Inicializa el tren de impulsos de Iext(t)\n",
    "I_ext = np.zeros_like(tiempo)\n",
    "\n",
    "# Haremos un ciclo FOR para crear un impulso de 100 mA cada 10 ms\n",
    "t_impulsos = [10, 20, 30, 40, 50, 60, 70, 80, 90]\n",
    "t_duracion = 2\n",
    "\n",
    "for i in range(len(t_impulsos)):\n",
    "    I_ext[tiempo>t_impulsos[i]] = 100.0\n",
    "    I_ext[tiempo>t_impulsos[i]+t_duracion] = 0.0\n",
    "\n",
    "# Grafica I_ext para que veas la forma de la onda de entrada a la neurona\n",
    "plt.figure(figsize=(6,2))\n",
    "plt.plot(tiempo,I_ext,'g',label='I(t)')\n",
    "plt.ylabel('Corriente (mA)')\n",
    "plt.xlabel('Tiempo (ms)')\n",
    "plt.legend()"
   ]
  },
  {
   "cell_type": "markdown",
   "metadata": {},
   "source": [
    "### Resuelve el modelo de Hodgkin-Huxley"
   ]
  },
  {
   "cell_type": "code",
   "execution_count": null,
   "metadata": {},
   "outputs": [],
   "source": [
    "# Crea una lista con condiciones iniciales\n",
    "ci = [-65.0, 0.0, 0.0, 0.0] # u(0), m(0), n(0), h(0)\n",
    "\n",
    "# Define los vectores u(t), n(t), m(t), h(t) para guardar la solucion\n",
    "u_t = np.empty_like(tiempo)\n",
    "m_t = np.empty_like(tiempo)\n",
    "n_t = np.empty_like(tiempo)\n",
    "h_t = np.empty_like(tiempo)\n",
    "\n",
    "# Inicializa el valor de u_t\n",
    "u_t[0] = ci[0] # = -65 mV (potencial de reposo)\n",
    "m_t[0] = ci[1]\n",
    "n_t[0] = ci[2]\n",
    "h_t[0] = ci[3]\n",
    "\n",
    "# Resuelve el sistema de EDO de Hodgkin-Huxley paso a paso con un ciclo FOR\n",
    "for i in range(1,len(tiempo)):\n",
    "    # Iniciamos el iterador en 1 porque el valor 0 ya lo definimos arriba\n",
    "    # Define el tamano del paso en el tiempo\n",
    "    tpaso = [tiempo[i-1],tiempo[i]]\n",
    "    # Resuelve las ecuaciones diferenciales del model HH en el tiempo que abarca el paso\n",
    "    z = odeint(HodgkinHuxley,ci,tpaso,args=(I_ext[i-1],))\n",
    "    # La variable \"z\" captura los valores de u,m,n,h en dos puntos en el tiempo:\n",
    "    # Estos cuatro valores en el tiempo son los que estan dentro de \"tpaso\"\n",
    "    u_t[i] = z[1][0]\n",
    "    m_t[i] = z[1][1]\n",
    "    n_t[i] = z[1][2]\n",
    "    h_t[i] = z[1][3]\n",
    "    \n",
    "    # Actualiza las condiciones iniciales\n",
    "    ci = z[1]"
   ]
  },
  {
   "cell_type": "code",
   "execution_count": null,
   "metadata": {},
   "outputs": [],
   "source": [
    "# Grafica los resultados\n",
    "plt.figure(figsize=(8,6))\n",
    "plt.subplot(3,1,1)\n",
    "plt.plot(tiempo,I_ext,'g',label='I(t)')\n",
    "plt.ylabel('Corriente (mA)')\n",
    "plt.xlabel('Tiempo (ms)')\n",
    "plt.legend()\n",
    "\n",
    "plt.subplot(3,1,2)\n",
    "plt.plot(tiempo,u_t,'b',label='u(t)')\n",
    "plt.ylabel('Potencial (mV)')\n",
    "plt.xlabel('Tiempo (ms)')\n",
    "plt.legend()\n",
    "\n",
    "plt.subplot(3,1,3)\n",
    "plt.plot(tiempo,m_t,label='m(t)')\n",
    "plt.plot(tiempo,n_t,label='n(t)')\n",
    "plt.plot(tiempo,h_t,label='h(t)')\n",
    "plt.ylabel('Probabilidad (%)')\n",
    "plt.xlabel('Tiempo (ms)')\n",
    "plt.legend()"
   ]
  },
  {
   "cell_type": "markdown",
   "metadata": {},
   "source": [
    "# **Ahora tienes una neurona *in silico* con la que puedes experimentar**\n",
    "\n",
    "* ¿Qué pasa si la corriente de $I_{ext}$ no es 100 mA sino 10 mA?\n",
    "* ¿Qué pasa si en lugar de impulsos cortos tenemos dos impulsos largos que duren 40 ms en t=5 y en t=50?\n",
    "* ¿Qué pasa si cambias las condiciones iniciales de m, n, h para que sean igual 1?"
   ]
  },
  {
   "cell_type": "code",
   "execution_count": null,
   "metadata": {},
   "outputs": [],
   "source": []
  }
 ],
 "metadata": {
  "kernelspec": {
   "display_name": "Python 2",
   "language": "python",
   "name": "python2"
  },
  "language_info": {
   "codemirror_mode": {
    "name": "ipython",
    "version": 2
   },
   "file_extension": ".py",
   "mimetype": "text/x-python",
   "name": "python",
   "nbconvert_exporter": "python",
   "pygments_lexer": "ipython2",
   "version": "2.7.12"
  }
 },
 "nbformat": 4,
 "nbformat_minor": 2
}
