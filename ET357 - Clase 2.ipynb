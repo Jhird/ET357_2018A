{
 "cells": [
  {
   "cell_type": "markdown",
   "metadata": {},
   "source": [
    "# Clase 2 - Introducción al uso de máquina virtual y a la programación en Python\n",
    "\n",
    "### Temas \n",
    "- Repaso de planteamiento de ecuaciones diferenciales y su solución a mano (crecimiento de bacterias, decaimiento radioactivo, ley de enfriamiento de Newton, ecuación del dogma central de la biología molecular y espacio de Crick)\n",
    "- Introduccióń a la máquina virtual para la clase (ET357 Ubuntu 16.04)\n",
    "- Comandos básicos en la terminal (ls, cd, mv, cp)\n",
    "- Introducción a Jupyter Lab y comandos básicos\n",
    "- Programación básica en Python \n",
    "- Programación en Python para ingeniería (módulos numpy y matplotlib)"
   ]
  },
  {
   "cell_type": "markdown",
   "metadata": {},
   "source": [
    "## Ecuación diferencial del crecimiento de bacterias\n",
    "El crecimiento de una colonia de bacterias es proporcional al número de bacterias presentes. Si la colonia se duplica cada 3 horas y comienza con 200 bacterias, ¿cuántas bacterias habrá después de 8 horas?\n",
    "\n",
    "### Paso 1 - Plantea la ecuación diferencial\n",
    "Llamemos $X(t)$ al número de bacterias presentes en la colonia cuando el tiempo es igual a $t$. El crecimiento del número de bacterias es un *cambio en el tiempo*, o sea, una derivada. Por lo tanto:\n",
    "$$\\frac{dX}{dt}\\propto X(t)$$  \n",
    "\n",
    "$$\\frac{dX}{dt} = kX(t)$$ \n",
    "\n",
    "Donde $k$ es una constante de proporcionalidad cuyo valor desconocemos aún. \n",
    "\n",
    "### Paso 2 - Resuelve la ecuación diferencial\n",
    "Para resolver esta E.D. y encontrar el valor de $X(t)$, usaremos separación de variables:\n",
    "$$\\frac{dX}{X(t)}=kdt$$ \n",
    "\n",
    "$$\\int \\frac{dX}{X(t)} = \\int kdt$$ \n",
    "\n",
    "$$ln(X(t)) + C_1 = kt + C_2$$\n",
    "\n",
    "Donde $C_1$ y $C_2$ son **constantes de integración**. Estas constantes de integración pueden sumarse/restarse y dar lugar a una constante de integración $C_3 = C_2 - C_1$ y tenemos:\n",
    "\n",
    "$$ln(X(t)) = kt + C_3$$ \n",
    "\n",
    "$$e^{ln(X(t))} = e^{kt+C_3}$$ \n",
    "\n",
    "$$X(t) = e^{kt}e^{C_3}$$ \n",
    "\n",
    "$$X(t) = Ce^{kt}$$\n",
    "\n",
    "Donde $C = e^{C_3}$ es otra constante\n",
    "\n",
    "### Paso 3 - Encuentra el valor de C y k\n",
    "\n",
    "Ahora que sabemos que $X(t) = Ce^{kt}$, podemos encontrar el valor de $C$ usando las **condiciones iniciales** del problema. Eso es, el numero de bacterias al comienzo cuando $t = 0$, o sea $X(t=0)=X(0)=200$\n",
    "\n",
    "$$X(0) = Ce^0$$ \n",
    "\n",
    "$$200 = C = X_0$$\n",
    "\n",
    "Donde $X_0$ representa el numero de bacterias al inicio.\n",
    "\n",
    "Ahora solamente falta encontrar el valor de $k$. Para ello, usaremos el dato sobre cada cuanto tiempo se duplica la colonia. Sabemos que la colonia tendra el doble de bacterias que tenia al inicio despues de 3 horas. Esto quiere decir que $X(t=3) = 2X(t=0) = 2X_0$. Entonces:\n",
    "\n",
    "$$2X_0 = X_0e^{3k}$$ \n",
    "\n",
    "Resolviendo para k, tenemos:\n",
    "\n",
    "$$\\frac{2X_0}{X_0} = e^{3k}$$ \n",
    "\n",
    "$$ln(2) = 3k$$\n",
    "\n",
    "$$\\frac{ln(2)}{3} = k \\approx 0.231 $$\n",
    "\n",
    "**NOTA**\n",
    "En microbiología, al valor de $k$ se le conoce como *tasa de crecimiento de la colonia*\n",
    "\n",
    "Y de esta manera, nuestra ecuación diferencial final queda como:\n",
    "\n",
    "$$X(t) = 200e^{0.231t}$$\n",
    "\n",
    "### Paso 4 - Encuentra el valor X(t) cuando t = 8\n",
    "\n",
    "Simplemente sustituimos t por 8 en la ecuacion anterior para obtener el número de bacterias que tiene la colonia después de 8 horas de haber estado creciendo\n",
    "\n",
    "$$X(8) = 200e^{0.231\\times 8} = 200e^{6.35} \\approx 1270$$ \n",
    "\n",
    "### Paso 5 - Haz una gráfica de $X(t)$ para ver el crecimiento de bacterias en el tiempo desde t=0 hasta t=12"
   ]
  },
  {
   "cell_type": "code",
   "execution_count": 1,
   "metadata": {},
   "outputs": [],
   "source": [
    "# Importar librerías de Python para cálculos numéricos (Numpy) y para graficar (Matplotlib)\n",
    "import numpy as np\n",
    "import matplotlib.pyplot as plt"
   ]
  },
  {
   "cell_type": "code",
   "execution_count": 11,
   "metadata": {},
   "outputs": [],
   "source": [
    "# Declara constantes y variables\n",
    "X0 = 200.0 # Bacterias al inicio\n",
    "k = np.log(2.0)/3.0 # Tasa de crecimiento\n",
    "t = np.linspace(0.0,12.0) # Puntos en el tiempo desde 0 hasta 12\n",
    "X = X0 * np.exp(k*t)"
   ]
  },
  {
   "cell_type": "code",
   "execution_count": 12,
   "metadata": {},
   "outputs": [
    {
     "data": {
      "text/plain": [
       "<matplotlib.legend.Legend at 0x7f0679cebc50>"
      ]
     },
     "execution_count": 12,
     "metadata": {},
     "output_type": "execute_result"
    },
    {
     "data": {
      "image/png": "[encoded data removed]",
      "text/plain": [
       "<Figure size 432x288 with 1 Axes>"
      ]
     },
     "metadata": {},
     "output_type": "display_data"
    }
   ],
   "source": [
    "# Grafica X con respecto al tiempo t\n",
    "plt.plot(t,X,label='$X(t)=200e^{0.231t}$')\n",
    "plt.xlabel('Tiempo (horas)') # Agrega texto en el eje horizontal\n",
    "plt.ylabel('Numero de bacterias') # Agrega text en el eje vertical\n",
    "plt.title('Crecimiento exponencial de bacterias') # Agrega un titulo a tu grafica\n",
    "plt.legend(loc='best') # Agrega una leyanda a la grafica en la mejor posicion posible"
   ]
  },
  {
   "cell_type": "markdown",
   "metadata": {},
   "source": [
    "# **Tarea - Resolver la siguiente ecuacion diferencial a mano y graficar la solucion con Python**\n",
    "La masa de isótopo radioactivo de yodo-131 (I-131) **decae** en el tiempo a una tasa que es proporcional a la masa de I-131 presente. Se sospecha que un paciente podría tener un tumor en la gládula tiroidea. Para confirmar esto por medio de imagenología, el paciente recibe una inyección con 50 miligramos (50 mg) de I-131. Si la **vida media** (o sea, el tiempo que debe pasar para que la masa de I-131 decaiga a la mitad) es de 8 días, contesta lo siguiente:\n",
    "\n",
    "1. ¿Cuántos miligramos de I-131 se encuentran circulando en el paciente a los 2 días de haber recibido la inyección?\n",
    "2. ¿Cuántos días tienen que pasar para que el paciente tenga solamente 10% de la dosis inicial de I-131 circulando en su sangre?\n",
    "3. ¿Cuál es la tasa de decaimiento $k$ que obtuviste al resolver la ecuación diferencial?\n",
    "4. Haz una gráfica del decaimiento de I-131 durante el primer mes después de la inyección (desde t=0 hasta t=30, recuerda que $t$ expresa días y no horas)\n",
    "5. ¿Qué tan rápido decae el I-131 cuando t=5? ¿Y qué tal cuando t=10?\n",
    "\n",
    "## Pista\n",
    "Digamos que M(t) es la masa de I-131 con respecto al tiempo, entonces: \n",
    "\n",
    "$$\\frac{dM}{dt} \\propto -M(t)$$ \n",
    "\n",
    "# Solución\n",
    "\n",
    "### EDO\n",
    "\n",
    "$$\\frac{dM}{dt} = -kM(t)$$\n",
    "\n",
    "### Al resolver la EDO, se obtiene\n",
    "\n",
    "$$M(t) = Ce^{-kt}$$\n",
    "\n",
    "### Usamos la condicion inicial ($M(t=0)$) para encontrar el valor de C\n",
    "\n",
    "$$M(0) = M_0 = C$$\n",
    "\n",
    "$$50 = C$$\n",
    "\n",
    "$$M(t) = 50e^{-kt}$$ \n",
    "\n",
    "### Usamos la vida media del I-131 ($t=8$) para encontrar el valor de $k$\n",
    "\n",
    "$$M(t=8) = \\frac{1}{2}M_0 = M_0e^{-8k}$$\n",
    "\n",
    "$$\\frac{ln(\\frac{1}{2})}{-8} = k \\approx 0.0866$$\n",
    "\n",
    "Por lo tanto,\n",
    "\n",
    "$$M(t) = 50e^{-0.0866t}$$\n",
    "\n",
    "## 1. Miligramos de I-131 en paciente dos días después de la inyección\n",
    "\n",
    "$$M(t=2) = 50e^{-0.0866\\times2}$$\n",
    "\n",
    "$$M(2) \\approx 42 $$\n",
    "\n",
    "## 2. Días que deben pasar para que el paciente tenga solamente 10% de la dosis (5 mg)\n",
    "\n",
    "$$M(t_{10}) = 5 = 50e^{-0.0866t_{10}}$$\n",
    "\n",
    "$$\\frac{ln(\\frac{1}{10})}{-0.0866} = t_{10}$$\n",
    "\n",
    "$$27 \\approx t_{10}$$\n",
    "\n",
    "## 3. Tasa de decaimiento del I-131\n",
    "\n",
    "$$k \\approx 0.0866 [1/dia]$$\n",
    "\n",
    "## 4. Grafica de M(t) desde t = 0 hasta t = 30"
   ]
  },
  {
   "cell_type": "code",
   "execution_count": 2,
   "metadata": {},
   "outputs": [
    {
     "data": {
      "text/plain": [
       "<matplotlib.legend.Legend at 0x7fe24a5dbe90>"
      ]
     },
     "execution_count": 2,
     "metadata": {},
     "output_type": "execute_result"
    },
    {
     "data": {
      "image/png": "[encoded data removed]",
      "text/plain": [
       "<Figure size 432x288 with 1 Axes>"
      ]
     },
     "metadata": {},
     "output_type": "display_data"
    }
   ],
   "source": [
    "# Define variables y constantes\n",
    "M0 = 50\n",
    "t = np.linspace(0,30)\n",
    "k = 0.0866\n",
    "M = M0 * np.exp(-k*t)\n",
    "\n",
    "# Genera la grafica\n",
    "plt.plot(t,M,label='$M(t) = 50e^{-0.0866t}$')\n",
    "plt.xlabel('t (dias)')\n",
    "plt.ylabel('M(t) (miligramos de I-131)')\n",
    "plt.title('Decaimiento de I-131')\n",
    "plt.legend()"
   ]
  },
  {
   "cell_type": "markdown",
   "metadata": {},
   "source": [
    "## 5. Rapidez de decaimiento cuando t = 5\n",
    "\n",
    "La rapidez de decaimiento se refiere a $\\frac{dM}{dt}$ por lo que derivamos $M(t)$ con respecto a $t$\n",
    "\n",
    "$$\\frac{dM}{dt}= \\frac{d}{dt}(50e^{-0.0866t})$$\n",
    "\n",
    "$$\\frac{dM}{dt} = (-0.0866)50e^{-0.0866t}$$\n",
    "\n",
    "$$\\frac{dM}{dt} = -4.33e^{-0.0866t}$$\n",
    "\n",
    "### Cuando t = 5\n",
    "\n",
    "$$\\frac{dM}{dt}_{t=5} = -4.33e^{-0.0866*5} = -2.8$$\n",
    "\n",
    "(En unidades de $\\frac{mg}{dia}$)\n",
    "\n",
    "### Cuando t = 10\n",
    "\n",
    "$$\\frac{dM}{dt}_{t=5} = -4.33e^{-0.0866*10} = -1.8$$"
   ]
  },
  {
   "cell_type": "markdown",
   "metadata": {},
   "source": [
    "# Ecuación diferencial sobre la ley de enfriamiento de Newton (resolver a mano en la clase)\n",
    "\n",
    "La velocidad con la que se enfría un objecto es proporcional a la diferencia de temperatura entre el objeto y la temperatura del ambiente en el que se encuentra. \n",
    "\n",
    "Llamemos $H(t)$ a la temperatura de un objeto como función del tiempo. Supongamos que la temperatura del medio ambiente es constante con un valor de $A$. Entonces:\n",
    "\n",
    "$$\\frac{dH}{dt} \\propto (H-A)$$\n",
    "\n",
    "$$\\frac{dH}{dt} = -k(H-A)$$\n",
    "\n",
    "Para resolver esta ecuación diferencial necesitamos utilizar **cambio de variable**:\n",
    "\n",
    "$$u = H - A$$\n",
    "\n",
    "$$\\frac{du}{dt} = \\frac{dH}{dt} - \\frac{dA}{dt}$$\n",
    "\n",
    "Pero $A$  es una constante, por lo que $\\frac{dA}{dt}=0$ y por lo tanto $\\frac{du}{dt} = \\frac{dH}{dt}$\n",
    "\n",
    "La ecuación diferencial por lo tanto es:\n",
    "\n",
    "$$\\frac{du}{dt}=-ku$$ \n",
    "\n",
    "Y al igual que resolvimos la ecuación sobre el crecimiento de bacterias, la solucion $u(t)$ es:\n",
    "\n",
    "$$u(t)=Ce^{-kt}$$\n",
    "\n",
    "$$H(t) - A = Ce^{-kt}$$\n",
    "\n",
    "$$H(t) = A + Ce^{-kt}$$\n",
    "\n",
    "La gráfica de H(t) generada con Python se muestra abajo para valores $A = 37 C^o, k=1.2, C=H_0=100 C^o$ para una ventana de tiempo que va desde t = 0 horas hasta t = 8 horas"
   ]
  },
  {
   "cell_type": "code",
   "execution_count": 13,
   "metadata": {},
   "outputs": [
    {
     "data": {
      "text/plain": [
       "<matplotlib.legend.Legend at 0x7f067997afd0>"
      ]
     },
     "execution_count": 13,
     "metadata": {},
     "output_type": "execute_result"
    },
    {
     "data": {
      "image/png": "[encoded data removed]",
      "text/plain": [
       "<Figure size 432x288 with 1 Axes>"
      ]
     },
     "metadata": {},
     "output_type": "display_data"
    }
   ],
   "source": [
    "t = np.linspace(0.0,8.0)\n",
    "A = 37.0 # Temperatura ambiente\n",
    "H0 = 100.0 # Temperatura inicial del objeto\n",
    "k = 1.2 # Constante de rapidez de enfriamiento\n",
    "\n",
    "H = A + H0*np.exp(-k*t)\n",
    "plt.plot(t,H,label='$H(t)=37 + 100e^{-0.2t}$')\n",
    "plt.plot(t,[A]*len(t),'r',label='A=37 $C^o$') # Gráfica de la asíntota (la temperatura ambiente)\n",
    "plt.xlabel('tiempo (horas)')\n",
    "plt.ylabel('Temperatura de objeto ($C^o$)')\n",
    "plt.title('Ley de enfriamiento de Newton')\n",
    "plt.legend(loc='best')"
   ]
  },
  {
   "cell_type": "markdown",
   "metadata": {},
   "source": [
    "# Ecuaciones para entender la cantidad de proteinas en una celula y el espacio de Crick (resolver en clase)\n",
    "\n",
    "Consideremos el proceso de expresión genética:\n",
    "\n",
    "$$[DNA] \\xrightarrow{\\beta_{m}} [mRNA] \\xrightarrow{\\beta_{p}} [Proteína]$$\n",
    "\n",
    "Donde $\\beta_{m},\\beta_{p}$ son las constantes de transcripcion y traduccion, respectivamente. Ahora, asumamos que el mRNA y la proteina se degradan con constantes de degradacion $\\alpha_{m},\\alpha_{p}$. \n",
    "\n",
    "$$[mRNA] \\xrightarrow{\\alpha_{m}} []$$\n",
    "\n",
    "$$[Proteina] \\xrightarrow{\\alpha_{p}} []$$\n",
    "\n",
    "Entonces podemos definir las siguientes ecuaciones diferenciales para representar la tasa de produccion de mRNA y de proteina:\n",
    "\n",
    "- Primero, la tasa de cambio en la concentracion de mRNA es\n",
    "$$\\frac{d[mRNA]}{dt}= \\beta_m[DNA] - \\alpha_m[mRNA]$$\n",
    "\n",
    "Pero [DNA] = 1 porque solamente hay una molecula de DNA en una celula. Ademas, notemos que aqui estamos suponiendo que el mRNA no se degrada al ser usado durante la traduccion de proteinas.\n",
    "\n",
    "$$\\frac{d[mRNA]}{dt}= \\beta_m - \\alpha_m[mRNA]$$\n",
    "\n",
    "- Ahora, veamos la tasa de cambio en la concentracion de proteina\n",
    "\n",
    "$$\\frac{d[Proteina]}{dt}= \\beta_p[mRNA] - \\alpha_p[Proteina]$$\n",
    "\n",
    "## **Tarea (opcional, pero cuenta como participacion en clase)**\n",
    "\n",
    "Usa las ecuaciones anteriores para demostrar que dentro de la celula, cuando se encuentra en equilibio o en **estado estable**, la concentracion de una proteina esta dada por:\n",
    "\n",
    "$$[Proteina] = \\frac{\\beta_m\\beta_p}{\\alpha_m\\alpha_p}$$ \n",
    "\n",
    "# Respuesta\n",
    "\n",
    "Cuando la célula alcanza estado estable, las concentraciones de proteína y mRNA están en equilibrio y **no cambian con el tiempo**. Por lo que podemos igualar ambas ecuaciones a cero\n",
    "\n",
    "$$\\frac{d[mRNA]}{dt} = 0 = \\beta_m - \\alpha_m[mRNA]$$\n",
    "\n",
    "$$\\frac{d[Proteina]}{dt} = 0 = \\beta_p[mRNA] - \\alpha_p[Proteina]$$\n",
    "\n",
    "Las primera ecuación resulta en la expresión de concentración de mRNA:\n",
    "\n",
    "$$[mRNA] = \\frac{\\beta_m}{\\alpha_m}$$\n",
    "\n",
    "La segunda ecuación resulta en la expresión de concentración de proteína:\n",
    "\n",
    "$$ \\alpha_p[Proteina] = \\beta_p[mRNA] $$\n",
    "\n",
    "$$ [Proteina] = \\frac{\\beta_p}{\\alpha_p}[mRNA] $$\n",
    "\n",
    "$$[Proteina] = \\frac{\\beta_m\\beta_p}{\\alpha_m\\alpha_p}$$ "
   ]
  },
  {
   "cell_type": "markdown",
   "metadata": {},
   "source": [
    "# Introducción a la máquina virtual ET357 Ubuntu 16.04\n",
    "\n",
    "# Comandos en la terminal\n",
    "\n",
    "# Introducción a Jupyter Lab y comandos básicos"
   ]
  },
  {
   "cell_type": "markdown",
   "metadata": {},
   "source": [
    "# Programación básica en Python\n",
    "\n",
    "### Cadenas de texto (strings)"
   ]
  },
  {
   "cell_type": "code",
   "execution_count": 5,
   "metadata": {},
   "outputs": [
    {
     "name": "stdout",
     "output_type": "stream",
     "text": [
      "Daniela\n"
     ]
    }
   ],
   "source": [
    "# Declara una variables de texto e imprimela en la pantalla\n",
    "nombre = \"Daniela\"\n",
    "print nombre"
   ]
  },
  {
   "cell_type": "code",
   "execution_count": 6,
   "metadata": {},
   "outputs": [
    {
     "name": "stdout",
     "output_type": "stream",
     "text": [
      "D\n"
     ]
    }
   ],
   "source": [
    "# ¿Cuál es la primera letra de la variable \"nombre\"?\n",
    "print nombre[0]"
   ]
  },
  {
   "cell_type": "code",
   "execution_count": 7,
   "metadata": {},
   "outputs": [
    {
     "name": "stdout",
     "output_type": "stream",
     "text": [
      "a\n"
     ]
    }
   ],
   "source": [
    "# ¿Cuál es la última letra de la variable \"nombre\"?\n",
    "print nombre[-1]"
   ]
  },
  {
   "cell_type": "code",
   "execution_count": 8,
   "metadata": {},
   "outputs": [
    {
     "name": "stdout",
     "output_type": "stream",
     "text": [
      "Dani\n"
     ]
    }
   ],
   "source": [
    "# Imprime las primeras 4 letras de la variable \"nombre\"\n",
    "print nombre[0:4]"
   ]
  },
  {
   "cell_type": "code",
   "execution_count": 9,
   "metadata": {},
   "outputs": [
    {
     "name": "stdout",
     "output_type": "stream",
     "text": [
      "DanielaCalifornia\n",
      "Daniela California\n"
     ]
    }
   ],
   "source": [
    "# En Python, puedes \"sumar\" dos variables de texto muy fácilmente\n",
    "apellido = \"California\"\n",
    "print nombre + apellido\n",
    "print nombre + \" \" + apellido"
   ]
  },
  {
   "cell_type": "markdown",
   "metadata": {},
   "source": [
    "### Variables numéricas y aritmética"
   ]
  },
  {
   "cell_type": "code",
   "execution_count": 10,
   "metadata": {},
   "outputs": [
    {
     "name": "stdout",
     "output_type": "stream",
     "text": [
      "7\n",
      "10\n"
     ]
    }
   ],
   "source": [
    "# Variable de tipo entero o \"integer\" (no es recomendable usarlas mucho, ver la siguiente celda)\n",
    "entero_1 = 2\n",
    "entero_2 = 5\n",
    "print entero_1 + entero_2\n",
    "print entero_1 * entero_2"
   ]
  },
  {
   "cell_type": "code",
   "execution_count": 11,
   "metadata": {},
   "outputs": [
    {
     "name": "stdout",
     "output_type": "stream",
     "text": [
      "2\n"
     ]
    }
   ],
   "source": [
    "# El problema de usar variables de tipo entero\n",
    "print entero_2 / entero_1 # 5 / 2 = 2.5, ¡pero las variables de tipo entero omiten los decimales!"
   ]
  },
  {
   "cell_type": "code",
   "execution_count": 12,
   "metadata": {},
   "outputs": [
    {
     "name": "stdout",
     "output_type": "stream",
     "text": [
      "0\n"
     ]
    }
   ],
   "source": [
    "# Otro ejemplo, 2/5 = 0.4\n",
    "print entero_1 / entero_2"
   ]
  },
  {
   "cell_type": "code",
   "execution_count": 13,
   "metadata": {},
   "outputs": [
    {
     "name": "stdout",
     "output_type": "stream",
     "text": [
      "2.5\n",
      "0.4\n",
      "7.0\n",
      "10.0\n"
     ]
    }
   ],
   "source": [
    "# Siempre es mejor utilizar variables de punto flotante o \"floating point\"\n",
    "numero_1 = 2.0\n",
    "numero_2 = 5.0\n",
    "print numero_2 / numero_1\n",
    "print numero_1 / numero_2\n",
    "print numero_1 + numero_2\n",
    "print numero_1 * numero_2"
   ]
  },
  {
   "cell_type": "markdown",
   "metadata": {},
   "source": [
    "### Variables booleanas o lógicas"
   ]
  },
  {
   "cell_type": "code",
   "execution_count": 14,
   "metadata": {},
   "outputs": [
    {
     "name": "stdout",
     "output_type": "stream",
     "text": [
      "True\n",
      "False\n"
     ]
    }
   ],
   "source": [
    "# Sirven para saber si algo es verdadero (True) o falso (False)\n",
    "# Por ejemplo, ¿es 5 mayor a 2?\n",
    "print 5 > 2\n",
    "\n",
    "# ¿Es 10 igual a 11?\n",
    "print 10 == 11"
   ]
  },
  {
   "cell_type": "code",
   "execution_count": 15,
   "metadata": {},
   "outputs": [
    {
     "data": {
      "text/plain": [
       "1"
      ]
     },
     "execution_count": 15,
     "metadata": {},
     "output_type": "execute_result"
    }
   ],
   "source": [
    "# Calcular el módulo (o el sobrante de la división) de dos números\n",
    "5%2"
   ]
  },
  {
   "cell_type": "markdown",
   "metadata": {},
   "source": [
    "### Listas"
   ]
  },
  {
   "cell_type": "code",
   "execution_count": 16,
   "metadata": {},
   "outputs": [],
   "source": [
    "# Agrupan diferentes objetos con un orden especifico\n",
    "lista_1 = [10, 20, 30, 40] # Esta es una lista de números enteros o \"integers\"\n",
    "lista_2 = [3.0, 1, 0.12, 42] # Esta es una lista que combina enteros con números de punto flotante\n",
    "lista_3 = [\"Juan\", False, 0.31, 10] # Esta es una lista mixta"
   ]
  },
  {
   "cell_type": "code",
   "execution_count": 17,
   "metadata": {},
   "outputs": [
    {
     "data": {
      "text/plain": [
       "True"
      ]
     },
     "execution_count": 17,
     "metadata": {},
     "output_type": "execute_result"
    }
   ],
   "source": [
    "# Es fácil saber si hay un elemento dentro de alguna lista\n",
    "\n",
    "# ¿Está el número 10 dentro de lista_1?\n",
    "10 in lista_1"
   ]
  },
  {
   "cell_type": "code",
   "execution_count": 18,
   "metadata": {},
   "outputs": [
    {
     "data": {
      "text/plain": [
       "True"
      ]
     },
     "execution_count": 18,
     "metadata": {},
     "output_type": "execute_result"
    }
   ],
   "source": [
    "10.0 in lista_1"
   ]
  },
  {
   "cell_type": "code",
   "execution_count": 19,
   "metadata": {},
   "outputs": [
    {
     "data": {
      "text/plain": [
       "False"
      ]
     },
     "execution_count": 19,
     "metadata": {},
     "output_type": "execute_result"
    }
   ],
   "source": [
    "# ¿Está el número 100.0 dentro de lista_2?\n",
    "100.0 in lista_2"
   ]
  },
  {
   "cell_type": "code",
   "execution_count": 20,
   "metadata": {},
   "outputs": [
    {
     "data": {
      "text/plain": [
       "'Juan'"
      ]
     },
     "execution_count": 20,
     "metadata": {},
     "output_type": "execute_result"
    }
   ],
   "source": [
    "# ¿Cuál es el primer elemento de la lista_3?\n",
    "lista_3[0]"
   ]
  },
  {
   "cell_type": "code",
   "execution_count": 21,
   "metadata": {},
   "outputs": [
    {
     "data": {
      "text/plain": [
       "42"
      ]
     },
     "execution_count": 21,
     "metadata": {},
     "output_type": "execute_result"
    }
   ],
   "source": [
    "lista_2[-1]"
   ]
  },
  {
   "cell_type": "markdown",
   "metadata": {},
   "source": [
    "### Ciclos \"For\"\n",
    "Sirven para repetir una acción varias veces"
   ]
  },
  {
   "cell_type": "code",
   "execution_count": 22,
   "metadata": {},
   "outputs": [
    {
     "name": "stdout",
     "output_type": "stream",
     "text": [
      "9.0\n",
      "3.0\n",
      "0.36\n",
      "126.0\n"
     ]
    }
   ],
   "source": [
    "# Ejemplo 1. Por cada elemento en lista_2, imprime el triple de cada elemento\n",
    "for elemento in lista_2:\n",
    "    print elemento * 3.0"
   ]
  },
  {
   "cell_type": "code",
   "execution_count": 23,
   "metadata": {},
   "outputs": [
    {
     "name": "stdout",
     "output_type": "stream",
     "text": [
      "Juan False\n",
      "False False\n",
      "0.31 False\n",
      "10 True\n"
     ]
    }
   ],
   "source": [
    "# Ejemplo 2. Por cada elemento en lista_3, verifica si ese elemento se encuentra dentro de lista_1\n",
    "for elemento in lista_3:\n",
    "    print elemento, elemento in lista_1"
   ]
  },
  {
   "cell_type": "code",
   "execution_count": null,
   "metadata": {},
   "outputs": [],
   "source": []
  }
 ],
 "metadata": {
  "kernelspec": {
   "display_name": "Python 2",
   "language": "python",
   "name": "python2"
  },
  "language_info": {
   "codemirror_mode": {
    "name": "ipython",
    "version": 2
   },
   "file_extension": ".py",
   "mimetype": "text/x-python",
   "name": "python",
   "nbconvert_exporter": "python",
   "pygments_lexer": "ipython2",
   "version": "2.7.12"
  }
 },
 "nbformat": 4,
 "nbformat_minor": 2
}
