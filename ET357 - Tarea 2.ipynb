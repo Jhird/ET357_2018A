{
 "cells": [
  {
   "cell_type": "markdown",
   "metadata": {},
   "source": [
    "# **Tarea 2 - Resolver el siguiente sistema de ecuaciones diferenciales con Scipy y graficar la solución como se pide**\n",
    "\n",
    "### El codigo para importar las librerias necesarias para resolver la tarea se encuentra en la siguiente celda. Para resolver los problemas, te será muy útil usar el código de los ejemplos en el Notebook de la Clase 4"
   ]
  },
  {
   "cell_type": "code",
   "execution_count": null,
   "metadata": {},
   "outputs": [],
   "source": [
    "# Importemos Numpy para hacer cálculos numéricos\n",
    "import numpy as np\n",
    "\n",
    "# Ahora importemos Matplotlib para hacer gráficas\n",
    "import matplotlib.pyplot as plt\n",
    "%matplotlib inline\n",
    "\n",
    "# Importemos la función \"odeint\" para integrar ecuaciones diferenciales\n",
    "from scipy.integrate import odeint"
   ]
  },
  {
   "cell_type": "markdown",
   "metadata": {},
   "source": [
    "# Problema\n",
    "\n",
    "La enfermedad conocida como **arritmia ventricular** es tratada con el medicamento *lidocaína*. Al tratar a un paciente con arritmia ventricular, generalmente se prefiere que el medicamento se mantenga en el torrente sanguíneo a una concentración de 1.5 miligramos por litro ya que las concentraciones por arriba de los 6mg/L son letales.\n",
    "\n",
    "La dosis recetada a un paciente siempre depende de la masa corporal. Por ejemplo, la dosis máxima para un adulto que sufre de taquicardia ventricular es de 3 mg de lidocaína por cada kilogramo de masa corporal (3 mg/kg).\n",
    "\n",
    "Si $x(t)$ representa la cantidad de lidocaína en el torrente sanguíneo y $y(t)$ es la cantidad de lidocaína en los tejidos (músculo, cuando es inyectado), entonces el sistema de ecuaciones diferenciales que explican la tasa de cambio de $x$ y de $y$ con respecto al tiempo son:\n",
    "\n",
    "$$\\frac{dx}{dt}=-0.09x + 0.038y$$\n",
    "\n",
    "$$\\frac{dy}{dt} = 0.066x - 0.038y$$\n",
    "\n",
    "La solución a este sistema de ecuaciones se utiliza para estimar la dosis no letal máxima posible $y(0)$ y el tiempo que dura el efecto de la lidocaína en el cuerpo.\n",
    "\n",
    "### **Pregunta A**\n",
    "\n",
    "Resuelve el sistema de ecuaciones diferenciales con Scipy utilizando las siguientes condiciones iniciales:\n",
    "\n",
    "* $x(0) = 0$ (En un principio, la lidocaína no ha entrado al torrente sanguíneo)\n",
    "\n",
    "* $y(0) = 140$ (En un principio, toda la lidocaína se encuentra en el músculo porque acaba de ser inyectada. Aquí asumimos que la dosis es de 2 mg/kg para un adulto que pesa 70 kg)\n",
    "\n",
    "* $t = [0, 480]$ Observaremos qué pasa durante los primeros 480 minutos (8 horas), utiliza 4000 pasos para la simulación\n",
    "\n",
    "### **Pregunta B**\n",
    "\n",
    "Si asumimos que el paciente tiene 6 litros de sangre en su cuerpo, entonces la cantidad de lidocaína en el torrente sanguíneo nunca debe de pasar de 36 mg (o sea, $x(t) < 36$ para todo valor de $t$). Ahora observa la gráfica que generaste en la pregunta A para $x(t)$. ¿Es seguro utilizar la dosis $y(0)=140$ en la  inyección inicial?\n",
    "\n",
    "### **Pregunta C**\n",
    "\n",
    "Vuelve a resolver el sistema de ecuaciones para los siguientes tres casos:\n",
    "\n",
    "* $x(0) = 0, y(0) = 35$\n",
    "* $x(0) = 0, y(0) = 70$\n",
    "* $x(0) = 0, y(0) = 105$\n",
    "\n",
    "(En todos los casos, considera que $t$ va de 0 a 480 en 4000 pasos)\n",
    "\n",
    "Grafica las tres soluciones de $x(t)$ en una sola figura y contesta lo siguiente:\n",
    "\n",
    "* ¿Alguna de las 3 opciones pone en riesgo la vida del paciente?\n",
    "* ¿Cuál de las 3 opciones mantiene un nivel de lidocaína por arriba de 10 mg por más tiempo?\n",
    "* ¿Aproximadamente en qué momento la inyección inicial de 105 mg pierde su efecto ($x(t) < 5$)?\n",
    "* ¿Qué valor máximo alcanza $x(t)$ cuando la inyección inicial es de 35 mg?"
   ]
  }
 ],
 "metadata": {
  "kernelspec": {
   "display_name": "Python 2",
   "language": "python",
   "name": "python2"
  },
  "language_info": {
   "codemirror_mode": {
    "name": "ipython",
    "version": 2
   },
   "file_extension": ".py",
   "mimetype": "text/x-python",
   "name": "python",
   "nbconvert_exporter": "python",
   "pygments_lexer": "ipython2",
   "version": "2.7.12"
  }
 },
 "nbformat": 4,
 "nbformat_minor": 2
}
